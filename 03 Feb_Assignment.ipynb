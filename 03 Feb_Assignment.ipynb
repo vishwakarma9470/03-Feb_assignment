{
 "cells": [
  {
   "cell_type": "markdown",
   "id": "2969b813",
   "metadata": {},
   "source": [
    "Q1. Which keyword is used to create a function? Create a function to return a list of odd numbers in the\n",
    "range of 1 to 25."
   ]
  },
  {
   "cell_type": "markdown",
   "id": "449dbdf0",
   "metadata": {},
   "source": [
    "the keyword used to create a function in python is 'def'."
   ]
  },
  {
   "cell_type": "code",
   "execution_count": 2,
   "id": "ccdbf604",
   "metadata": {},
   "outputs": [],
   "source": [
    "def odd_numbers():\n",
    "    odd_list = []\n",
    "    for i in range(1, 26):\n",
    "        if i%2 != 0:\n",
    "            odd_list.append(i)\n",
    "    return odd_list"
   ]
  },
  {
   "cell_type": "code",
   "execution_count": 3,
   "id": "d126fc30",
   "metadata": {},
   "outputs": [
    {
     "name": "stdout",
     "output_type": "stream",
     "text": [
      "[1, 3, 5, 7, 9, 11, 13, 15, 17, 19, 21, 23, 25]\n"
     ]
    }
   ],
   "source": [
    "result = odd_numbers()\n",
    "print(result)"
   ]
  },
  {
   "cell_type": "markdown",
   "id": "6ce7ccd3",
   "metadata": {},
   "source": [
    "Q2. Why *args and **kwargs is used in some functions? Create a function each for *args and **kwargs\n",
    "to demonstrate their use."
   ]
  },
  {
   "cell_type": "markdown",
   "id": "7cd7ae77",
   "metadata": {},
   "source": [
    "Ans -  '*args' and '**kwargs' are special syntax in Python that allow a function to accept a variable number of arguments.\n",
    "\n",
    "The '*args' parameter is used to pass a variable-length list of non-keyworded arguments to a function. It is a tuple that contains all the positional arguments passed to the function."
   ]
  },
  {
   "cell_type": "code",
   "execution_count": 4,
   "id": "bec3eb12",
   "metadata": {},
   "outputs": [
    {
     "name": "stdout",
     "output_type": "stream",
     "text": [
      "1\n",
      "2\n",
      "3\n",
      "a\n",
      "b\n",
      "c\n",
      "d\n",
      "True\n",
      "False\n"
     ]
    }
   ],
   "source": [
    "def myfunc(*args):\n",
    "    for arg in args:\n",
    "        print(arg)\n",
    "\n",
    "\n",
    "myfunc(1, 2, 3)\n",
    "myfunc('a', 'b', 'c', 'd')\n",
    "myfunc(True, False)\n"
   ]
  },
  {
   "cell_type": "markdown",
   "id": "922e4905",
   "metadata": {},
   "source": [
    "The '**kwargs' parameter is used to pass a variable-length dictionary of keyword arguments to a function. It is a dictionary that contains all the keyword arguments passed to the function."
   ]
  },
  {
   "cell_type": "code",
   "execution_count": 5,
   "id": "8b6d08ef",
   "metadata": {},
   "outputs": [
    {
     "name": "stdout",
     "output_type": "stream",
     "text": [
      "name: Alice\n",
      "age: 25\n",
      "city: New York\n",
      "country: USA\n",
      "language: English\n",
      "fruit: apple\n",
      "color: red\n",
      "taste: sweet\n"
     ]
    }
   ],
   "source": [
    "def myfunc(**kwargs):\n",
    "    for key, value in kwargs.items():\n",
    "        print(f\"{key}: {value}\")\n",
    "\n",
    "\n",
    "myfunc(name='Alice', age=25)\n",
    "myfunc(city='New York', country='USA', language='English')\n",
    "myfunc(fruit='apple', color='red', taste='sweet')\n"
   ]
  },
  {
   "cell_type": "markdown",
   "id": "dd7f1775",
   "metadata": {},
   "source": [
    "Q3. What is an iterator in python? Name the method used to initialise the iterator object and the method\n",
    "used for iteration. Use these methods to print the first five elements of the given list [2, 4, 6, 8, 10, 12, 14,\n",
    "16, 18, 20]."
   ]
  },
  {
   "cell_type": "markdown",
   "id": "f7559b85",
   "metadata": {},
   "source": [
    "Ans - In Python, an iterator is an object that allows us to traverse through a container and access its elements one by one. It is used to implement a custom iterable object that supports the iteration protocol.\n",
    "\n",
    "To initialize an iterator object, we use the iter() method. It takes a single argument, which is the object that we want to iterate over. The iter() method returns an iterator object that we can use to iterate over the elements of the container.\n",
    "\n",
    "To iterate over the elements of an iterator object, we use the next() method. This method returns the next element in the iterator sequence. We can use a for loop to iterate over all the elements of the iterator until there are no more elements left."
   ]
  },
  {
   "cell_type": "code",
   "execution_count": 6,
   "id": "bb8c9544",
   "metadata": {},
   "outputs": [
    {
     "ename": "TypeError",
     "evalue": "'list' object is not an iterator",
     "output_type": "error",
     "traceback": [
      "\u001b[1;31m---------------------------------------------------------------------------\u001b[0m",
      "\u001b[1;31mTypeError\u001b[0m                                 Traceback (most recent call last)",
      "Cell \u001b[1;32mIn[6], line 4\u001b[0m\n\u001b[0;32m      2\u001b[0m myiter \u001b[38;5;241m=\u001b[39m \u001b[38;5;28miter\u001b[39m(l)\n\u001b[0;32m      3\u001b[0m \u001b[38;5;28;01mfor\u001b[39;00m i \u001b[38;5;129;01min\u001b[39;00m \u001b[38;5;28mrange\u001b[39m(\u001b[38;5;241m5\u001b[39m):\n\u001b[1;32m----> 4\u001b[0m     \u001b[38;5;28mprint\u001b[39m(\u001b[38;5;28;43mnext\u001b[39;49m\u001b[43m(\u001b[49m\u001b[43ml\u001b[49m\u001b[43m)\u001b[49m)\n",
      "\u001b[1;31mTypeError\u001b[0m: 'list' object is not an iterator"
     ]
    }
   ],
   "source": [
    "l = [2, 4, 6, 8, 10, 12, 14, 16, 18, 20]\n",
    "myiter = iter(l)\n",
    "for i in range(5):\n",
    "    print(next(l))"
   ]
  },
  {
   "cell_type": "code",
   "execution_count": 7,
   "id": "67de09af",
   "metadata": {},
   "outputs": [
    {
     "name": "stdout",
     "output_type": "stream",
     "text": [
      "2\n",
      "4\n",
      "6\n",
      "8\n",
      "10\n"
     ]
    }
   ],
   "source": [
    "l = [2, 4, 6, 8, 10, 12, 14, 16, 18, 20]\n",
    "myiter = iter(l)\n",
    "for i in range(5):\n",
    "    print(next(myiter))"
   ]
  },
  {
   "cell_type": "markdown",
   "id": "d062f453",
   "metadata": {},
   "source": [
    "Q4. What is a generator function in python? Why yield keyword is used? Give an example of a generator\n",
    "function."
   ]
  },
  {
   "cell_type": "markdown",
   "id": "89eb5508",
   "metadata": {},
   "source": [
    "Ans - In Python, a generator function is a special type of function that returns an iterator object which can be used to iterate over a sequence of values, one at a time. Unlike normal functions, which return a single value and then exit, generator functions can be paused and resumed on demand, allowing them to produce a sequence of values over time.\n",
    "\n",
    "The yield keyword is used in generator functions to return a value from the function and pause the function's execution. When the function is called again, execution resumes from where it left off, with all of the function's state (such as variable values and loop counters) preserved."
   ]
  },
  {
   "cell_type": "code",
   "execution_count": 8,
   "id": "df5f7fbb",
   "metadata": {},
   "outputs": [],
   "source": [
    "def fibonacci(n):\n",
    "    a, b = 0, 1\n",
    "    for i in range(n):\n",
    "        yield a\n",
    "        a, b = b, a + b\n"
   ]
  },
  {
   "cell_type": "code",
   "execution_count": 9,
   "id": "a6738b42",
   "metadata": {},
   "outputs": [
    {
     "name": "stdout",
     "output_type": "stream",
     "text": [
      "0\n",
      "1\n",
      "1\n",
      "2\n",
      "3\n",
      "5\n",
      "8\n",
      "13\n",
      "21\n",
      "34\n"
     ]
    }
   ],
   "source": [
    "fib = fibonacci(10)\n",
    "for num in fib:\n",
    "    print(num)"
   ]
  },
  {
   "cell_type": "markdown",
   "id": "daa5d234",
   "metadata": {},
   "source": [
    "using the yield keyword to return the current value and pause the function's execution. When the function is called again, execution resumes from the yield statement, with the state of the function preserved."
   ]
  },
  {
   "cell_type": "markdown",
   "id": "9005a7ad",
   "metadata": {},
   "source": [
    "Q5. Create a generator function for prime numbers less than 1000. Use the next() method to print the\n",
    "first 20 prime numbers."
   ]
  },
  {
   "cell_type": "markdown",
   "id": "274c0576",
   "metadata": {},
   "source": [
    "Q6. Write a python program to print the first 10 Fibonacci numbers using a while loop."
   ]
  },
  {
   "cell_type": "code",
   "execution_count": 10,
   "id": "86e27e85",
   "metadata": {},
   "outputs": [
    {
     "name": "stdout",
     "output_type": "stream",
     "text": [
      "0\n",
      "1\n",
      "1\n",
      "2\n",
      "3\n",
      "5\n",
      "8\n",
      "13\n",
      "21\n",
      "34\n"
     ]
    }
   ],
   "source": [
    "a, b = 0, 1\n",
    "count  = 0\n",
    "while count< 10:\n",
    "    print(a)\n",
    "    c = a+b\n",
    "    a = b\n",
    "    b = c \n",
    "    count += 1"
   ]
  },
  {
   "cell_type": "markdown",
   "id": "74652adf",
   "metadata": {},
   "source": [
    "Q7. Write a List Comprehension to iterate through the given string: ‘pwskills’.\n",
    "Expected output: ['p', 'w', 's', 'k', 'i', 'l', 'l', 's']"
   ]
  },
  {
   "cell_type": "code",
   "execution_count": 11,
   "id": "9a1e693a",
   "metadata": {},
   "outputs": [
    {
     "data": {
      "text/plain": [
       "['P', 'W', 'S', 'K', 'I', 'L', 'L', 'S']"
      ]
     },
     "execution_count": 11,
     "metadata": {},
     "output_type": "execute_result"
    }
   ],
   "source": [
    "s = 'pwskills'\n",
    "list(map(lambda s : s.upper() , s))\n"
   ]
  },
  {
   "cell_type": "markdown",
   "id": "5d943908",
   "metadata": {},
   "source": [
    "Q9. Write a code to print odd numbers from 1 to 100 using list comprehension.\n",
    "Note: Use a list comprehension to create a list from 1 to 100 and use another List comprehension to filter\n",
    "out odd numbers."
   ]
  },
  {
   "cell_type": "code",
   "execution_count": 12,
   "id": "01f992a8",
   "metadata": {},
   "outputs": [
    {
     "name": "stdout",
     "output_type": "stream",
     "text": [
      "[1, 3, 5, 7, 9, 11, 13, 15, 17, 19, 21, 23, 25, 27, 29, 31, 33, 35, 37, 39, 41, 43, 45, 47, 49, 51, 53, 55, 57, 59, 61, 63, 65, 67, 69, 71, 73, 75, 77, 79, 81, 83, 85, 87, 89, 91, 93, 95, 97, 99]\n"
     ]
    }
   ],
   "source": [
    "odd_numbers = [num for num in range(1, 101) if num % 2 != 0]\n",
    "print(odd_numbers)\n"
   ]
  },
  {
   "cell_type": "markdown",
   "id": "e87099de",
   "metadata": {},
   "source": [
    "Q8. Write a python program to check whether a given number is Palindrome or not using a while loop."
   ]
  },
  {
   "cell_type": "code",
   "execution_count": 13,
   "id": "29cab5ba",
   "metadata": {},
   "outputs": [
    {
     "name": "stdout",
     "output_type": "stream",
     "text": [
      "12321 is a palindrome\n"
     ]
    }
   ],
   "source": [
    "# Define the number\n",
    "number = 12321\n",
    "\n",
    "# Convert the number to a string\n",
    "number_str = str(number)\n",
    "\n",
    "# Use a while loop to check whether the number is a palindrome or not\n",
    "left = 0\n",
    "right = len(number_str) - 1\n",
    "is_palindrome = True\n",
    "while left < right:\n",
    "    if number_str[left] != number_str[right]:\n",
    "        is_palindrome = False\n",
    "        break\n",
    "    left += 1\n",
    "    right -= 1\n",
    "\n",
    "# Print the result\n",
    "if is_palindrome:\n",
    "    print(f\"{number} is a palindrome\")\n",
    "else:\n",
    "    print(f\"{number} is not a palindrome\")\n"
   ]
  },
  {
   "cell_type": "code",
   "execution_count": 14,
   "id": "f1ef535e",
   "metadata": {},
   "outputs": [
    {
     "name": "stdout",
     "output_type": "stream",
     "text": [
      "45654 is a palindrome\n"
     ]
    }
   ],
   "source": [
    "# Define the number\n",
    "number = 45654\n",
    "\n",
    "# Convert the number to a string\n",
    "number_str = str(number)\n",
    "\n",
    "# Use a while loop to check whether the number is a palindrome or not\n",
    "left = 0\n",
    "right = len(number_str) - 1\n",
    "is_palindrome = True\n",
    "while left < right:\n",
    "    if number_str[left] != number_str[right]:\n",
    "        is_palindrome = False\n",
    "        break\n",
    "    left += 1\n",
    "    right -= 1\n",
    "\n",
    "# Print the result\n",
    "if is_palindrome:\n",
    "    print(f\"{number} is a palindrome\")\n",
    "else:\n",
    "    print(f\"{number} is not a palindrome\")\n"
   ]
  },
  {
   "cell_type": "code",
   "execution_count": 15,
   "id": "841bce3b",
   "metadata": {},
   "outputs": [
    {
     "name": "stdout",
     "output_type": "stream",
     "text": [
      "12343 is not a palindrome\n"
     ]
    }
   ],
   "source": [
    "# Define the number\n",
    "number = 12343\n",
    "\n",
    "# Convert the number to a string\n",
    "number_str = str(number)\n",
    "\n",
    "# Use a while loop to check whether the number is a palindrome or not\n",
    "left = 0\n",
    "right = len(number_str) - 1\n",
    "is_palindrome = True\n",
    "while left < right:\n",
    "    if number_str[left] != number_str[right]:\n",
    "        is_palindrome = False\n",
    "        break\n",
    "    left += 1\n",
    "    right -= 1\n",
    "\n",
    "# Print the result\n",
    "if is_palindrome:\n",
    "    print(f\"{number} is a palindrome\")\n",
    "else:\n",
    "    print(f\"{number} is not a palindrome\")\n"
   ]
  },
  {
   "cell_type": "markdown",
   "id": "2aa9c358",
   "metadata": {},
   "source": [
    "Q5. Create a generator function for prime numbers less than 1000. Use the next() method to print the\n",
    "first 20 prime numbers."
   ]
  },
  {
   "cell_type": "code",
   "execution_count": 16,
   "id": "d6908243",
   "metadata": {},
   "outputs": [],
   "source": [
    "def primes():\n",
    "    yield 2\n",
    "    primes_list = [2]\n",
    "    candidate = 3\n",
    "    while True:\n",
    "        is_prime = True\n",
    "        for prime in primes_list:\n",
    "            if prime ** 2 > candidate:\n",
    "                break\n",
    "            if candidate % prime == 0:\n",
    "                is_prime = False\n",
    "                break\n",
    "        if is_prime:\n",
    "            primes_list.append(candidate)\n",
    "            yield candidate\n",
    "        candidate += 2\n",
    "        if candidate >= 1000:\n",
    "            break\n"
   ]
  },
  {
   "cell_type": "code",
   "execution_count": null,
   "id": "3de9b907",
   "metadata": {},
   "outputs": [],
   "source": [
    "\n",
    "prime_generator = primes()\n",
    "\n",
    "# print the first 20 prime numbers\n",
    "for i in range(20):\n",
    "    print(next(prime_generator))\n"
   ]
  }
 ],
 "metadata": {
  "kernelspec": {
   "display_name": "Python 3 (ipykernel)",
   "language": "python",
   "name": "python3"
  },
  "language_info": {
   "codemirror_mode": {
    "name": "ipython",
    "version": 3
   },
   "file_extension": ".py",
   "mimetype": "text/x-python",
   "name": "python",
   "nbconvert_exporter": "python",
   "pygments_lexer": "ipython3",
   "version": "3.10.10"
  }
 },
 "nbformat": 4,
 "nbformat_minor": 5
}
